{
 "cells": [
  {
   "cell_type": "code",
   "execution_count": 1,
   "metadata": {},
   "outputs": [],
   "source": [
    "MY_LIST = [1,2,4,5,4,6]"
   ]
  },
  {
   "cell_type": "code",
   "execution_count": 2,
   "metadata": {},
   "outputs": [],
   "source": [
    "MY_LIST.remove(4)"
   ]
  },
  {
   "cell_type": "code",
   "execution_count": 3,
   "metadata": {},
   "outputs": [
    {
     "data": {
      "text/plain": [
       "[1, 2, 5, 4, 6]"
      ]
     },
     "execution_count": 3,
     "metadata": {},
     "output_type": "execute_result"
    }
   ],
   "source": [
    "MY_LIST"
   ]
  },
  {
   "cell_type": "code",
   "execution_count": 4,
   "metadata": {},
   "outputs": [
    {
     "data": {
      "text/plain": [
       "list"
      ]
     },
     "execution_count": 4,
     "metadata": {},
     "output_type": "execute_result"
    }
   ],
   "source": [
    "type(MY_LIST)"
   ]
  },
  {
   "cell_type": "code",
   "execution_count": 5,
   "metadata": {},
   "outputs": [
    {
     "data": {
      "text/plain": [
       "5"
      ]
     },
     "execution_count": 5,
     "metadata": {},
     "output_type": "execute_result"
    }
   ],
   "source": [
    "MY_LIST.pop(2)"
   ]
  },
  {
   "cell_type": "code",
   "execution_count": 6,
   "metadata": {},
   "outputs": [
    {
     "data": {
      "text/plain": [
       "[1, 2, 4, 6]"
      ]
     },
     "execution_count": 6,
     "metadata": {},
     "output_type": "execute_result"
    }
   ],
   "source": [
    "MY_LIST"
   ]
  },
  {
   "cell_type": "code",
   "execution_count": 7,
   "metadata": {},
   "outputs": [],
   "source": [
    "class SampleClass:\n",
    "    pass"
   ]
  },
  {
   "cell_type": "code",
   "execution_count": 8,
   "metadata": {},
   "outputs": [],
   "source": [
    "s1 = SampleClass()"
   ]
  },
  {
   "cell_type": "code",
   "execution_count": 9,
   "metadata": {},
   "outputs": [
    {
     "data": {
      "text/plain": [
       "__main__.SampleClass"
      ]
     },
     "execution_count": 9,
     "metadata": {},
     "output_type": "execute_result"
    }
   ],
   "source": [
    "type(s1)"
   ]
  },
  {
   "cell_type": "code",
   "execution_count": 10,
   "metadata": {},
   "outputs": [],
   "source": [
    "# when we want to declare /initiate an attribute inside a class\n",
    "# we need to write __init__ function\n",
    "\n",
    "# self is the parameter which connects our object with the class\n",
    "\n",
    "class MobilePhone():\n",
    "    \n",
    "    def __init__(self,Price,Model):\n",
    "        \n",
    "        self.Price= Price\n",
    "        self.Model = Model"
   ]
  },
  {
   "cell_type": "code",
   "execution_count": 11,
   "metadata": {},
   "outputs": [],
   "source": [
    "# m1 = MobilePhone() \n",
    "# After running this we get error : TypeError: __init__() missing 2 required positional arguments: 'Price' and 'Model'"
   ]
  },
  {
   "cell_type": "code",
   "execution_count": 12,
   "metadata": {},
   "outputs": [],
   "source": [
    "m1 = MobilePhone(100000,'MI9')"
   ]
  },
  {
   "cell_type": "code",
   "execution_count": 13,
   "metadata": {},
   "outputs": [],
   "source": [
    "m2 = MobilePhone(600000, 's10+')"
   ]
  },
  {
   "cell_type": "code",
   "execution_count": 14,
   "metadata": {},
   "outputs": [
    {
     "data": {
      "text/plain": [
       "100000"
      ]
     },
     "execution_count": 14,
     "metadata": {},
     "output_type": "execute_result"
    }
   ],
   "source": [
    "m1.Price"
   ]
  },
  {
   "cell_type": "code",
   "execution_count": 15,
   "metadata": {},
   "outputs": [
    {
     "data": {
      "text/plain": [
       "'s10+'"
      ]
     },
     "execution_count": 15,
     "metadata": {},
     "output_type": "execute_result"
    }
   ],
   "source": [
    "m2.Model"
   ]
  },
  {
   "cell_type": "code",
   "execution_count": 16,
   "metadata": {},
   "outputs": [],
   "source": [
    "class MobilePhone1():\n",
    "    \n",
    "    def __init__(self,MyPrice,Model): # this is same as constructer\n",
    "        \n",
    "        #self.attribute_name  = attribute_name\n",
    "        \n",
    "        self.Price= MyPrice\n",
    "        self.Model = Model"
   ]
  },
  {
   "cell_type": "code",
   "execution_count": 17,
   "metadata": {},
   "outputs": [],
   "source": [
    "m3 = MobilePhone1(20000,'MI10')"
   ]
  },
  {
   "cell_type": "code",
   "execution_count": 18,
   "metadata": {},
   "outputs": [
    {
     "data": {
      "text/plain": [
       "20000"
      ]
     },
     "execution_count": 18,
     "metadata": {},
     "output_type": "execute_result"
    }
   ],
   "source": [
    "m3.Price"
   ]
  },
  {
   "cell_type": "markdown",
   "metadata": {},
   "source": [
    "Takeway 1 : How to declare a class  \n",
    "Takeway 2 : Always declare the init method()  \n",
    "Takeway 3 : Follow the convention by writing common terms like self."
   ]
  },
  {
   "cell_type": "markdown",
   "metadata": {},
   "source": [
    "methods - if a function is defined inside a class it is called a method"
   ]
  },
  {
   "cell_type": "code",
   "execution_count": 19,
   "metadata": {},
   "outputs": [],
   "source": [
    "class Bank():\n",
    "    \n",
    "    #Class attribute\n",
    "    #Common for all object or instance that we are going to create for this class\n",
    "    Bank_Name = 'SBI'\n",
    "    \n",
    "    def __init__(self,branch,employees):\n",
    "        \n",
    "        self.branch = branch\n",
    "        self.employees = employees\n",
    "        \n",
    "    def acc_opening(self):\n",
    "        print('Bank has digitalized the acc. opening process')"
   ]
  },
  {
   "cell_type": "code",
   "execution_count": 20,
   "metadata": {},
   "outputs": [],
   "source": [
    "b1 = Bank('Andheri',10)\n",
    "b2 = Bank('Thane',12)"
   ]
  },
  {
   "cell_type": "code",
   "execution_count": 21,
   "metadata": {},
   "outputs": [
    {
     "data": {
      "text/plain": [
       "<bound method Bank.acc_opening of <__main__.Bank object at 0x000001B233DF4438>>"
      ]
     },
     "execution_count": 21,
     "metadata": {},
     "output_type": "execute_result"
    }
   ],
   "source": [
    "b1.acc_opening"
   ]
  },
  {
   "cell_type": "code",
   "execution_count": 22,
   "metadata": {},
   "outputs": [
    {
     "name": "stdout",
     "output_type": "stream",
     "text": [
      "Bank has digitalized the acc. opening process\n"
     ]
    }
   ],
   "source": [
    "b1.acc_opening()"
   ]
  },
  {
   "cell_type": "code",
   "execution_count": 23,
   "metadata": {},
   "outputs": [
    {
     "name": "stdout",
     "output_type": "stream",
     "text": [
      "SBI \t Andheri \t 10\n",
      "Bank has digitalized the acc. opening process\n"
     ]
    }
   ],
   "source": [
    "print(b1.Bank_Name,'\\t',b1.branch,'\\t',b1.employees)\n",
    "b1.acc_opening()"
   ]
  },
  {
   "cell_type": "code",
   "execution_count": 24,
   "metadata": {},
   "outputs": [
    {
     "name": "stdout",
     "output_type": "stream",
     "text": [
      "SBI \t Thane \t 12\n",
      "Bank has digitalized the acc. opening process\n"
     ]
    }
   ],
   "source": [
    "print(b2.Bank_Name,'\\t',b2.branch,'\\t',b2.employees)\n",
    "b2.acc_opening()"
   ]
  },
  {
   "cell_type": "code",
   "execution_count": 25,
   "metadata": {},
   "outputs": [],
   "source": [
    "class Bank():\n",
    "    Bank_Name = 'SBI'\n",
    "    \n",
    "    def __init__(self,branch,employees,accounts):\n",
    "        \n",
    "        self.branch = branch\n",
    "        self.employees = employees\n",
    "        self.accounts = accounts\n",
    "        \n",
    "    def acc_opening(self):\n",
    "        print('Bank has digitalized the acc. opening process and has opened {} accounts'.format(self.accounts))\n",
    "        #remember to use self.attribute_name in any method if you are using the attribute"
   ]
  },
  {
   "cell_type": "code",
   "execution_count": 26,
   "metadata": {},
   "outputs": [],
   "source": [
    "b3 = Bank('Dadar',14,1200)"
   ]
  },
  {
   "cell_type": "code",
   "execution_count": 27,
   "metadata": {},
   "outputs": [
    {
     "name": "stdout",
     "output_type": "stream",
     "text": [
      "Bank has digitalized the acc. opening process and has opened 1200 accounts\n"
     ]
    }
   ],
   "source": [
    "b3.acc_opening()"
   ]
  },
  {
   "cell_type": "code",
   "execution_count": 28,
   "metadata": {},
   "outputs": [],
   "source": [
    "# method with parameter passed by the user\n",
    "class Bank():\n",
    "    Bank_Name = 'SBI'\n",
    "    \n",
    "    def __init__(self,branch,employees):\n",
    "        \n",
    "        self.branch = branch\n",
    "        self.employees = employees\n",
    "        \n",
    "    def acc_opening(self,accounts):\n",
    "        print('Bank has digitalized the acc. opening process and has opened {} accounts'.format(accounts))\n",
    "        #no need to add self if the values are directly passed by the user"
   ]
  },
  {
   "cell_type": "code",
   "execution_count": 29,
   "metadata": {},
   "outputs": [],
   "source": [
    "b4 = Bank('Malad',12)"
   ]
  },
  {
   "cell_type": "code",
   "execution_count": 30,
   "metadata": {},
   "outputs": [
    {
     "name": "stdout",
     "output_type": "stream",
     "text": [
      "Bank has digitalized the acc. opening process and has opened 1000 accounts\n"
     ]
    }
   ],
   "source": [
    "b4.acc_opening(1000)"
   ]
  },
  {
   "cell_type": "code",
   "execution_count": 31,
   "metadata": {},
   "outputs": [],
   "source": [
    "class Circle():\n",
    "    pi = 3.14\n",
    "    def __init__(self,radius=1):\n",
    "        self.radius=radius\n",
    "        self.area=radius*radius*Circle.pi\n",
    "    def circumferences(self):\n",
    "        print('Circumference of the circle is :',2*Circle.pi*self.radius)"
   ]
  },
  {
   "cell_type": "code",
   "execution_count": 32,
   "metadata": {},
   "outputs": [],
   "source": [
    "c1 = Circle()"
   ]
  },
  {
   "cell_type": "code",
   "execution_count": 33,
   "metadata": {},
   "outputs": [
    {
     "data": {
      "text/plain": [
       "3.14"
      ]
     },
     "execution_count": 33,
     "metadata": {},
     "output_type": "execute_result"
    }
   ],
   "source": [
    "c1.area"
   ]
  },
  {
   "cell_type": "code",
   "execution_count": 34,
   "metadata": {},
   "outputs": [
    {
     "data": {
      "text/plain": [
       "31400.0"
      ]
     },
     "execution_count": 34,
     "metadata": {},
     "output_type": "execute_result"
    }
   ],
   "source": [
    "c2 = Circle(100)\n",
    "c2.area"
   ]
  },
  {
   "cell_type": "code",
   "execution_count": 35,
   "metadata": {},
   "outputs": [
    {
     "name": "stdout",
     "output_type": "stream",
     "text": [
      "Circumference of the circle is : 6.28\n"
     ]
    }
   ],
   "source": [
    "c1.circumferences()"
   ]
  },
  {
   "cell_type": "code",
   "execution_count": 36,
   "metadata": {},
   "outputs": [
    {
     "name": "stdout",
     "output_type": "stream",
     "text": [
      "Circumference of the circle is : 628.0\n"
     ]
    }
   ],
   "source": [
    "c2.circumferences()"
   ]
  },
  {
   "cell_type": "markdown",
   "metadata": {},
   "source": [
    "## Inheritance"
   ]
  },
  {
   "cell_type": "markdown",
   "metadata": {},
   "source": [
    "reduce complexity  \n",
    "no of lines of code is also reduced"
   ]
  },
  {
   "cell_type": "code",
   "execution_count": 37,
   "metadata": {},
   "outputs": [],
   "source": [
    "class gadget():\n",
    "    def __init__(self):\n",
    "        print('Gaget created')\n",
    "    def video_device(self):\n",
    "        print('This is a method is used for viewing videos')\n",
    "    def play_game(self):\n",
    "        print('This method is used for playing games')     "
   ]
  },
  {
   "cell_type": "code",
   "execution_count": 38,
   "metadata": {},
   "outputs": [],
   "source": [
    "class samrtphone(gadget):\n",
    "    def __init__(self):\n",
    "        gadget.__init__(self) # This line calls the __init__ object from gadget class and creates its own object\n",
    "        print('smartphone created')"
   ]
  },
  {
   "cell_type": "code",
   "execution_count": 39,
   "metadata": {},
   "outputs": [
    {
     "name": "stdout",
     "output_type": "stream",
     "text": [
      "Gaget created\n",
      "smartphone created\n"
     ]
    }
   ],
   "source": [
    "s1 = samrtphone()"
   ]
  },
  {
   "cell_type": "code",
   "execution_count": 40,
   "metadata": {},
   "outputs": [
    {
     "name": "stdout",
     "output_type": "stream",
     "text": [
      "This method is used for playing games\n"
     ]
    }
   ],
   "source": [
    "s1.play_game()"
   ]
  },
  {
   "cell_type": "code",
   "execution_count": 41,
   "metadata": {},
   "outputs": [],
   "source": [
    "# can we overwrite the parent's class method\n",
    "# yes we can\n",
    "class laptop(gadget):\n",
    "    def __init__(self):\n",
    "        gadget.__init__(self)\n",
    "        print('laptop is created')\n",
    "    def video_device(self):\n",
    "        print('this is a method used to view and edit videos')    "
   ]
  },
  {
   "cell_type": "code",
   "execution_count": 42,
   "metadata": {},
   "outputs": [
    {
     "name": "stdout",
     "output_type": "stream",
     "text": [
      "Gaget created\n",
      "laptop is created\n"
     ]
    }
   ],
   "source": [
    "l1 = laptop()"
   ]
  },
  {
   "cell_type": "code",
   "execution_count": 43,
   "metadata": {},
   "outputs": [
    {
     "name": "stdout",
     "output_type": "stream",
     "text": [
      "this is a method used to view and edit videos\n"
     ]
    }
   ],
   "source": [
    "l1.video_device()"
   ]
  },
  {
   "cell_type": "markdown",
   "metadata": {},
   "source": [
    "# Question - Write a program which has a class Calculate and define two methods  \n",
    "m1 = distance : used foe calculating distance between pair of two points in(x,y) plane  \n",
    "m2 = slope: used for calculating slope between two points"
   ]
  },
  {
   "cell_type": "code",
   "execution_count": 45,
   "metadata": {},
   "outputs": [],
   "source": [
    "class Calculate():\n",
    "    \n",
    "    def __init__(self,x1y1,x2y2):\n",
    "        self.x1y1 = x1y1\n",
    "        self.x2y2 = x2y2\n",
    "        \n",
    "    def distance(self):\n",
    "        x1,y1=self.x1y1\n",
    "        print('1st pair : ' , (x1,y1))\n",
    "        x2,y2=self.x2y2\n",
    "        print('2nd pair : ' , (x2,y2))\n",
    "        return ((y2-y1)**2+(x2-x1)**2)**(0.5)\n",
    "    \n",
    "    def slope(self):\n",
    "        x1,y1=self.x1y1\n",
    "        x2,y2=self.x2y2\n",
    "        return (y2-y1)/(x2-x1)"
   ]
  },
  {
   "cell_type": "code",
   "execution_count": 46,
   "metadata": {},
   "outputs": [],
   "source": [
    "c1 = (-1,15)\n",
    "c2 = (20,10)"
   ]
  },
  {
   "cell_type": "code",
   "execution_count": 47,
   "metadata": {},
   "outputs": [],
   "source": [
    "c = Calculate(c1,c2)"
   ]
  },
  {
   "cell_type": "code",
   "execution_count": 48,
   "metadata": {},
   "outputs": [
    {
     "name": "stdout",
     "output_type": "stream",
     "text": [
      "1st pair :  (-1, 15)\n",
      "2nd pair :  (20, 10)\n"
     ]
    },
    {
     "data": {
      "text/plain": [
       "21.587033144922902"
      ]
     },
     "execution_count": 48,
     "metadata": {},
     "output_type": "execute_result"
    }
   ],
   "source": [
    "c.distance()"
   ]
  },
  {
   "cell_type": "code",
   "execution_count": 49,
   "metadata": {},
   "outputs": [
    {
     "data": {
      "text/plain": [
       "-0.23809523809523808"
      ]
     },
     "execution_count": 49,
     "metadata": {},
     "output_type": "execute_result"
    }
   ],
   "source": [
    "c.slope()"
   ]
  },
  {
   "cell_type": "code",
   "execution_count": null,
   "metadata": {},
   "outputs": [],
   "source": []
  }
 ],
 "metadata": {
  "kernelspec": {
   "display_name": "Python 3",
   "language": "python",
   "name": "python3"
  },
  "language_info": {
   "codemirror_mode": {
    "name": "ipython",
    "version": 3
   },
   "file_extension": ".py",
   "mimetype": "text/x-python",
   "name": "python",
   "nbconvert_exporter": "python",
   "pygments_lexer": "ipython3",
   "version": "3.7.3"
  }
 },
 "nbformat": 4,
 "nbformat_minor": 2
}
